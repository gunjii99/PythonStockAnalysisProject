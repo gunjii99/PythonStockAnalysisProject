{
 "cells": [
  {
   "cell_type": "code",
   "execution_count": null,
   "id": "f4985740-6950-4061-a750-bce47d1bcef4",
   "metadata": {
    "tags": []
   },
   "outputs": [],
   "source": [
    "#import statements\n",
    "\n",
    "import yfinance as yf\n",
    "import pandas as pd\n",
    "import matplotlib.pyplot as plt\n",
    "from datetime import datetime\n",
    "from datetime import timedelta\n",
    "import numpy as np"
   ]
  },
  {
   "cell_type": "code",
   "execution_count": null,
   "id": "be1a7211-1286-4ef1-99aa-8382bf14b8e9",
   "metadata": {
    "tags": []
   },
   "outputs": [],
   "source": [
    "#downloading historical stock data\n",
    "\n",
    "df_alibaba_closing_prices = yf.download('BABA','2018-11-01','2019-11-01')\n",
    "df_snap_closing_prices = yf.download('SNAP','2019-01-01','2019-12-31')\n",
    "df_tesla_closing_prices = yf.download('TSLA','2019-01-01','2019-12-31')"
   ]
  },
  {
   "cell_type": "code",
   "execution_count": null,
   "id": "c2a6b3ca-41c0-4da1-af95-fea75d6cb514",
   "metadata": {
    "tags": []
   },
   "outputs": [],
   "source": [
    "#creating a list of stock in our portfolio with the info as ['stock name','Long/Short','Date purchased','number of shares']\n",
    "\n",
    "portfolio_list = [['BABA', 'L', '2018-11-30', 2000],['SNAP', 'L', '2019-03-14', 5000],['TSLA', 'S', '2019-02-01', 1500]]\n",
    "\n",
    "#sorting the portfolio by purchase date\n",
    "portfolio_list.sort(key = lambda x: x[2])\n",
    "print(portfolio_list)"
   ]
  },
  {
   "cell_type": "code",
   "execution_count": null,
   "id": "48517b93-0298-4d95-a02a-ab22c7466a73",
   "metadata": {
    "tags": []
   },
   "outputs": [],
   "source": [
    "#creating new dataframes to store our portfolio data\n",
    "\n",
    "df_portfolio_alibaba = pd.DataFrame()\n",
    "df_portfolio_snap = pd.DataFrame()\n",
    "df_portfolio_tsla = pd.DataFrame()"
   ]
  },
  {
   "cell_type": "code",
   "execution_count": null,
   "id": "8b05e0d7-67fb-4eb5-bcf2-66a52ea31d42",
   "metadata": {
    "tags": []
   },
   "outputs": [],
   "source": [
    "#converting Date purchased element is list to date format\n",
    "\n",
    "len_portfolio = len(portfolio_list)\n",
    "for i in range(len_portfolio):\n",
    "    portfolio_list[i][2] = datetime.strptime(portfolio_list[i][2], '%Y-%m-%d').date()"
   ]
  },
  {
   "cell_type": "code",
   "execution_count": null,
   "id": "1c46eb69-462e-44c7-b2c3-3882fa2ba2e9",
   "metadata": {
    "tags": []
   },
   "outputs": [],
   "source": [
    "#function to collect data from historical data for our portfolio dataframes\n",
    "\n",
    "def append_ranges(df_portfolio, closing_prices_df , len_pf, pf_list, i):\n",
    "    if i < len_pf:\n",
    "        df_portfolio = pd.concat([df_portfolio, closing_prices_df.loc[pf_list[i][2] : pf_list[len_pf-1][2]]]).drop_duplicates()\n",
    "        return df_portfolio\n",
    "        \n",
    "    if i == len_pf:\n",
    "        date = pf_list[len_pf][2]\n",
    "        date = date + timedelta(days=1)\n",
    "        df_portfolio = pd.concat([df_portfolio, closing_prices_df.loc[pf_list[i][2] : date]]).drop_duplicates()\n",
    "        return df_portfolio\n",
    "\n",
    "#for loop for collecting data using the portfolio list and append_ranges\n",
    "\n",
    "for i in range(len_portfolio):\n",
    "    if portfolio_list[i][0] == 'BABA':\n",
    "        df_portfolio_alibaba = append_ranges(df_portfolio_alibaba, df_alibaba_closing_prices, len_portfolio, portfolio_list, i)\n",
    "        \n",
    "    elif portfolio_list[i][0] == 'TSLA':\n",
    "        df_portfolio_tsla = append_ranges(df_portfolio_tsla, df_tesla_closing_prices, len_portfolio, portfolio_list, i)\n",
    "        \n",
    "    elif portfolio_list[i][0] == 'SNAP':\n",
    "        df_portfolio_snap = append_ranges(df_portfolio_snap, df_snap_closing_prices, len_portfolio, portfolio_list, i)\n",
    "\n",
    "        \n",
    "#print(df_portfolio_alibaba)\n",
    "#print(df_portfolio_tsla)\n",
    "#print(df_portfolio_snap)\n",
    "#df_portfolio_tsla.info()\n",
    "#df_portfolio_snap.info()"
   ]
  },
  {
   "cell_type": "code",
   "execution_count": null,
   "id": "d62f259b-9dd7-4d6b-8596-0d8216294d77",
   "metadata": {
    "tags": []
   },
   "outputs": [],
   "source": [
    "#df_portfolio['Returns'] = df_portfolio.Close.pct_change()*100\n",
    "\n",
    "#calculating returns based on number of shares purchased\n",
    "for i in range(len_portfolio):\n",
    "    if portfolio_list[i][0] == 'BABA':\n",
    "        df_portfolio_alibaba['Returns'] = df_portfolio_alibaba.Close.pct_change() * 100 * portfolio_list[i][3]\n",
    "        \n",
    "    elif portfolio_list[i][0] == 'TSLA':\n",
    "        df_portfolio_tsla['Returns'] = df_portfolio_tsla.Close.pct_change() * 100 * portfolio_list[i][3]\n",
    "        \n",
    "    elif portfolio_list[i][0] == 'SNAP':\n",
    "        df_portfolio_snap['Returns'] = df_portfolio_snap.Close.pct_change() * 100 * portfolio_list[i][3]\n",
    "\n",
    "#replacing NA with 0\n",
    "df_portfolio_alibaba['Returns'] = df_portfolio_alibaba['Returns'].fillna(0)\n",
    "df_portfolio_tsla['Returns'] = df_portfolio_tsla['Returns'].fillna(0)\n",
    "df_portfolio_snap['Returns'] = df_portfolio_snap['Returns'].fillna(0)\n",
    "\n",
    "'''print(df_portfolio_alibaba)\n",
    "print(df_portfolio_tsla)\n",
    "print(df_portfolio_snap)'''"
   ]
  },
  {
   "cell_type": "code",
   "execution_count": null,
   "id": "64e9b039-c069-48d1-93ea-b26afbb62f56",
   "metadata": {
    "tags": []
   },
   "outputs": [],
   "source": [
    "#net return for each portfolio and total\n",
    "\n",
    "TeslaTotalReturn = df_portfolio_tsla['Returns'].sum()\n",
    "AliBabaTotalReturn = df_portfolio_alibaba['Returns'].sum()\n",
    "SnapTotalReturn = df_portfolio_snap['Returns'].sum()\n",
    "\n",
    "NetReturnPlot = pd.concat([df_portfolio_alibaba['Returns'], -df_portfolio_tsla['Returns'], df_portfolio_snap['Returns']]).drop_duplicates() #df_portfolio_alibaba['Returns'] -df_portfolio_tsla['Returns'] + df_portfolio_snap['Returns']\n",
    "#NetReturnPlot.sort_values(inplace = True)\n",
    "\n",
    "print(NetReturnPlot.sum())"
   ]
  },
  {
   "cell_type": "code",
   "execution_count": null,
   "id": "3972bf8a-9d52-4208-af35-826ab1d69436",
   "metadata": {
    "tags": []
   },
   "outputs": [],
   "source": [
    "#Daily Returns Plot\n",
    "fig = plt.figure(figsize = (12, 5))\n",
    "#plot.hist(df_tesla_closing_prices.index, NetReturnPlot, width = 1.5)\n",
    "NetReturnPlot.plot.hist(bins=100, alpha=0.5)\n",
    "plt.title('Net Returns')\n",
    "plt.xlabel('Date')\n",
    "plt.ylabel('Returns per day')\n",
    "plt.show(block=True)"
   ]
  },
  {
   "cell_type": "code",
   "execution_count": null,
   "id": "2ad721ec-257a-41bd-80fd-91d6ea165dec",
   "metadata": {},
   "outputs": [],
   "source": []
  }
 ],
 "metadata": {
  "kernelspec": {
   "display_name": "Python 3 (ipykernel)",
   "language": "python",
   "name": "python3"
  },
  "language_info": {
   "codemirror_mode": {
    "name": "ipython",
    "version": 3
   },
   "file_extension": ".py",
   "mimetype": "text/x-python",
   "name": "python",
   "nbconvert_exporter": "python",
   "pygments_lexer": "ipython3",
   "version": "3.11.3"
  }
 },
 "nbformat": 4,
 "nbformat_minor": 5
}
